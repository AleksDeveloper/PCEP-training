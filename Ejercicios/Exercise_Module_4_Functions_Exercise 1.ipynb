{
 "cells": [
  {
   "cell_type": "markdown",
   "metadata": {},
   "source": [
    "### Python Functions Exercise\n",
    "#### Objective:\n",
    "To practice creating functions, using parameters, returning values, and setting default parameter values in Python.\n",
    "\n",
    "Create a function to calculate the area of geometric shapes; the same function should be able to be used for each of the shapes (rectangle, triangle, circle).\n",
    "\n",
    "Start with simple function and move throug exercises and add more features to acomodate new functionalities"
   ]
  },
  {
   "cell_type": "markdown",
   "metadata": {},
   "source": [
    "#### Exercise 1\n",
    "**Instructions:**\n",
    "\n",
    "Create a function to calculate the area of a rectangle. The function should take two parameters, width and height, and return the area of a rectangle.\n",
    "\n",
    "$A = width \\times height $"
   ]
  },
  {
   "cell_type": "code",
   "execution_count": null,
   "metadata": {},
   "outputs": [],
   "source": [
    "# Insert your Code here\n",
    "\n"
   ]
  },
  {
   "cell_type": "markdown",
   "metadata": {},
   "source": [
    "#### Exercise 2\n",
    "**Instructions:**\n",
    "\n",
    "Exercise 2:\n",
    "Modify the previous function and add option to calculate the area of a triangle, use a new parameter called *shape*, which will be the name of the geometric shape. By default, it should be *rectangle*, but it can now receive *triangle*, and the function should return the area of the triangle.\n",
    "\n",
    "$A = \\frac{width \\times height}{2}$"
   ]
  },
  {
   "cell_type": "code",
   "execution_count": null,
   "metadata": {},
   "outputs": [],
   "source": [
    "# Copy previous code and modify\n",
    "\n"
   ]
  },
  {
   "cell_type": "markdown",
   "metadata": {},
   "source": [
    "Exercise 3:\n",
    "Modify the function to calculate the area of a circle. It should now receive value for the radious of a circle and return the area of it.\n",
    "\n",
    "$A = \\pi r^2$"
   ]
  },
  {
   "cell_type": "code",
   "execution_count": null,
   "metadata": {},
   "outputs": [],
   "source": [
    "# Copy previous code and modify\n"
   ]
  }
 ],
 "metadata": {
  "kernelspec": {
   "display_name": "Python 3",
   "language": "python",
   "name": "python3"
  },
  "language_info": {
   "codemirror_mode": {
    "name": "ipython",
    "version": 3
   },
   "file_extension": ".py",
   "mimetype": "text/x-python",
   "name": "python",
   "nbconvert_exporter": "python",
   "pygments_lexer": "ipython3",
   "version": "3.12.7"
  }
 },
 "nbformat": 4,
 "nbformat_minor": 2
}
